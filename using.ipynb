{
 "cells": [
  {
   "metadata": {},
   "cell_type": "markdown",
   "source": "# this file is the process of using(training)",
   "id": "86e31093ae5b1f05"
  },
  {
   "metadata": {},
   "cell_type": "markdown",
   "source": "### 1、debug yolov5s-fpn",
   "id": "8a6441c283d636b4"
  },
  {
   "metadata": {},
   "cell_type": "code",
   "outputs": [],
   "execution_count": null,
   "source": [
    "%cd yolov5\n",
    "python train.py --data data/coco.yaml --weights '' --cfg models/hub/yolov5s-fpn.yaml --img 640 --epochs 1000 --batch-size -1\n",
    "\n",
    "# 使用yolov5s-fpn进行训练，训练结果在/runs/train/exp/下，跑一个epoch的时间大约是25分钟，总共跑了xx个epoch"
   ],
   "id": "52b12d1b1087415a"
  }
 ],
 "metadata": {
  "kernelspec": {
   "display_name": "Python 3",
   "language": "python",
   "name": "python3"
  },
  "language_info": {
   "codemirror_mode": {
    "name": "ipython",
    "version": 2
   },
   "file_extension": ".py",
   "mimetype": "text/x-python",
   "name": "python",
   "nbconvert_exporter": "python",
   "pygments_lexer": "ipython2",
   "version": "2.7.6"
  }
 },
 "nbformat": 4,
 "nbformat_minor": 5
}
