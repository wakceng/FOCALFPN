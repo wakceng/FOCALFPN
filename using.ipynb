{
 "cells": [
  {
   "cell_type": "markdown",
   "id": "86e31093ae5b1f05",
   "metadata": {},
   "source": [
    "# this file is the process of using(training)"
   ]
  },
  {
   "cell_type": "markdown",
   "id": "8a6441c283d636b4",
   "metadata": {},
   "source": [
    "### 1、debug yolov5s-fpn"
   ]
  },
  {
   "cell_type": "code",
   "execution_count": null,
   "id": "467b7784dc54a950",
   "metadata": {},
   "outputs": [],
   "source": [
    "%cd yolov5\n",
    "python train.py --data data/coco.yaml --weights '' --cfg models/hub/yolov5s-fpn.yaml --img 640 --epochs 1000 --batch-size -1\n",
    "\n",
    "# 使用yolov5s-fpn进行训练，训练结果在/runs/train/exp/下，跑一个epoch的时间大约是25分钟，总共跑了1000个epoch"
   ]
  },
  {
   "cell_type": "code",
   "execution_count": null,
   "id": "c90f4d8b4e2c0e82",
   "metadata": {},
   "outputs": [],
   "source": [
    "%cd yolov5\n",
    "python train.py --data data/coco.yaml --weights '' --cfg models/hub/yolov5s-bifpn.yaml --img 640 --epochs 2000 --batch-size -1\n",
    "python train.py --resume ./runs/train/exp2/weights/last.pt\n",
    "# 使用yolov5s-bifpn进行训练，训练结果在/runs/train/exp2/下，跑一个epoch的时间大约是25分钟，总共跑了1914个epoch"
   ]
  },
  {
   "cell_type": "code",
   "execution_count": null,
   "id": "8ec7c5ab7a2f260f",
   "metadata": {
    "jupyter": {
     "is_executing": true
    }
   },
   "outputs": [],
   "source": [
    "%cd yolov5\n",
    "python train.py --data data/minicoco.yaml --weights '' --cfg models/hub/yolov5s-fpn.yaml --img 640 --epochs 10000 --batch-size -1\n",
    "# 使用yolov5s-fpn进行训练，训练结果在/runs/train/exp3/下，跑一个epoch的时间为1.5min，总共跑了388个epoch"
   ]
  },
  {
   "cell_type": "code",
   "execution_count": null,
   "id": "88f91d7d3ac91ec7",
   "metadata": {},
   "outputs": [],
   "source": [
    "%cd yolov5\n",
    "python train.py --data data/minicoco.yaml --weights '' --cfg models/hub/yolov5s-bifpn.yaml --img 640 --epochs 10000 --batch-size -1\n",
    "# 使用yolov5s-bifpn进行训练，训练结果在/runs/train/exp4/下，跑一个epoch的时间为1.5min，总共跑了708个epoch"
   ]
  },
  {
   "cell_type": "code",
   "execution_count": null,
   "id": "aea8dff07950552e",
   "metadata": {},
   "outputs": [],
   "source": [
    "%cd yolov5\n",
    "python train.py --data data/minicoco.yaml --weights '' --cfg models/hub/yolov5s-transformer.yaml --img 640 --epochs 10000 --batch-size -1\n",
    "# 使用yolov5s-transformer进行训练，训练结果在/runs/train/exp5/下，跑一个epoch的时间为1.5min，总共跑了409个epoch"
   ]
  },
  {
   "metadata": {},
   "cell_type": "code",
   "outputs": [],
   "execution_count": null,
   "source": [
    "%cd yolov5\n",
    "python train.py --data data/minicoco.yaml --weights '' --cfg models/yolov5s.yaml --img 640 --epochs 10000 --batch-size -1\n",
    "# 使用yolov5s进行训练，训练结果在/runs/train/exp6/下，跑一个epoch的时间为1.5min，总共跑了468个epoch"
   ],
   "id": "82bb9035e164a1c3"
  },
  {
   "metadata": {},
   "cell_type": "code",
   "outputs": [],
   "execution_count": null,
   "source": [
    "%cd yolov5\n",
    "python train.py --data data/minicoco.yaml --weights '' --cfg models/hub/yolov5s_focalpan.yaml --img 640 --epochs 10000 --batch-size -1\n",
    "# 使用yolov5s_focalpan进行训练，训练结果在/runs/train/exp7/下，跑一个epoch的时间为1.5min，总共跑了627个epoch"
   ],
   "id": "98b0a690a2f8cdbe"
  },
  {
   "metadata": {},
   "cell_type": "code",
   "outputs": [],
   "execution_count": null,
   "source": [
    "%cd yolov5\n",
    "python train.py --data data/DSMD.yaml --weights '' --cfg models/hub/yolov5s_focalpan_DSMD.yaml --img 640 --epochs 10000 --batch-size -1\n",
    "# 使用yolov5s_focalpan进行训练，训练结果在/runs/train/exp8/下，跑一个epoch的时间为2min，总共跑了152个epoch"
   ],
   "id": "c243fd5c5c808e06"
  },
  {
   "metadata": {},
   "cell_type": "code",
   "outputs": [],
   "execution_count": null,
   "source": [
    "%cd yolov5\n",
    "python train.py --data data/DSMD.yaml --weights '' --cfg models/hub/yolov5s-bifpn_DSMD.yaml --img 640 --epochs 150 --batch-size -1\n",
    "# 使用yolov5s_focalpan进行训练，训练结果在/runs/train/exp9/下，跑一个epoch的时间为2min，总共跑了150个epoch"
   ],
   "id": "b317cd8f42cf6708"
  },
  {
   "metadata": {},
   "cell_type": "code",
   "outputs": [],
   "execution_count": null,
   "source": [
    "%cd yolov5\n",
    "python train.py --data data/DSMD.yaml --weights '' --cfg models/hub/yolov5s-panet_DSMD.yaml --img 640 --epochs 150 --batch-size -1\n",
    "# 使用yolov5s_focalpan进行训练，训练结果在/runs/train/exp10/下，跑一个epoch的时间为2min，总共跑了150个epoch"
   ],
   "id": "d99d0144b8976c38"
  },
  {
   "metadata": {},
   "cell_type": "code",
   "outputs": [],
   "execution_count": null,
   "source": [
    "%cd yolov5\n",
    "python train.py --data data/DSMD.yaml --weights '' --cfg models/hub/yolov5s_DSMD.yaml --img 640 --epochs 150 --batch-size -1\n",
    "# 使用yolov5s_focalpan进行训练，训练结果在/runs/train/exp11/下，跑一个epoch的时间为2min，总共跑了150个epoch"
   ],
   "id": "6d742055e81ea79e"
  }
 ],
 "metadata": {
  "kernelspec": {
   "display_name": "Python 3",
   "language": "python",
   "name": "python3"
  },
  "language_info": {
   "codemirror_mode": {
    "name": "ipython",
    "version": 2
   },
   "file_extension": ".py",
   "mimetype": "text/x-python",
   "name": "python",
   "nbconvert_exporter": "python",
   "pygments_lexer": "ipython2",
   "version": "2.7.6"
  }
 },
 "nbformat": 4,
 "nbformat_minor": 5
}
