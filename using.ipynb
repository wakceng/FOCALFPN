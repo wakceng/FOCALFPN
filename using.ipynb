{
 "cells": [
  {
   "cell_type": "markdown",
   "id": "86e31093ae5b1f05",
   "metadata": {},
   "source": [
    "# this file is the process of using(training)"
   ]
  },
  {
   "cell_type": "markdown",
   "id": "8a6441c283d636b4",
   "metadata": {},
   "source": [
    "### 1、debug yolov5s-fpn"
   ]
  },
  {
   "cell_type": "code",
   "execution_count": null,
   "id": "467b7784dc54a950",
   "metadata": {},
   "outputs": [],
   "source": [
    "%cd yolov5\n",
    "python train.py --data data/coco.yaml --weights '' --cfg models/hub/yolov5s-fpn.yaml --img 640 --epochs 1000 --batch-size -1\n",
    "\n",
    "# 使用yolov5s-fpn进行训练，训练结果在/runs/train/exp/下，跑一个epoch的时间大约是25分钟，总共跑了1000个epoch"
   ]
  },
  {
   "cell_type": "code",
   "execution_count": null,
   "id": "c90f4d8b4e2c0e82",
   "metadata": {},
   "outputs": [],
   "source": [
    "%cd yolov5\n",
    "python train.py --data data/coco.yaml --weights '' --cfg models/hub/yolov5s-bifpn.yaml --img 640 --epochs 2000 --batch-size -1\n",
    "python train.py --resume ./runs/train/exp2/weights/last.pt\n",
    "# 使用yolov5s-bifpn进行训练，训练结果在/runs/train/exp2/下，跑一个epoch的时间大约是25分钟，总共跑了1914个epoch"
   ]
  },
  {
   "cell_type": "code",
   "execution_count": null,
   "id": "8ec7c5ab7a2f260f",
   "metadata": {
    "jupyter": {
     "is_executing": true
    }
   },
   "outputs": [],
   "source": [
    "%cd yolov5\n",
    "python train.py --data data/minicoco.yaml --weights '' --cfg models/hub/yolov5s-fpn.yaml --img 640 --epochs 10000 --batch-size -1\n",
    "# 使用yolov5s-fpn进行训练，训练结果在/runs/train/exp3/下，跑一个epoch的时间为1.5min，总共跑了388个epoch"
   ]
  },
  {
   "cell_type": "code",
   "execution_count": null,
   "id": "88f91d7d3ac91ec7",
   "metadata": {},
   "outputs": [],
   "source": [
    "%cd yolov5\n",
    "python train.py --data data/minicoco.yaml --weights '' --cfg models/hub/yolov5s-bifpn.yaml --img 640 --epochs 10000 --batch-size -1\n",
    "# 使用yolov5s-bifpn进行训练，训练结果在/runs/train/exp4/下，跑一个epoch的时间为1.5min，总共跑了708个epoch"
   ]
  },
  {
   "cell_type": "code",
   "execution_count": null,
   "id": "aea8dff07950552e",
   "metadata": {},
   "outputs": [],
   "source": [
    "%cd yolov5\n",
    "python train.py --data data/minicoco.yaml --weights '' --cfg models/hub/yolov5s-transformer.yaml --img 640 --epochs 10000 --batch-size -1\n",
    "# 使用yolov5s-transformer进行训练，训练结果在/runs/train/exp5/下，跑一个epoch的时间为1.5min，总共跑了409个epoch"
   ]
  },
  {
   "metadata": {},
   "cell_type": "code",
   "outputs": [],
   "execution_count": null,
   "source": [
    "%cd yolov5\n",
    "python train.py --data data/minicoco.yaml --weights '' --cfg models/yolov5s.yaml --img 640 --epochs 10000 --batch-size -1\n",
    "# 使用yolov5s进行训练，训练结果在/runs/train/exp6/下，跑一个epoch的时间为1.5min，总共跑了xxx个epoch"
   ],
   "id": "82bb9035e164a1c3"
  }
 ],
 "metadata": {
  "kernelspec": {
   "display_name": "Python 3",
   "language": "python",
   "name": "python3"
  },
  "language_info": {
   "codemirror_mode": {
    "name": "ipython",
    "version": 2
   },
   "file_extension": ".py",
   "mimetype": "text/x-python",
   "name": "python",
   "nbconvert_exporter": "python",
   "pygments_lexer": "ipython2",
   "version": "2.7.6"
  }
 },
 "nbformat": 4,
 "nbformat_minor": 5
}
